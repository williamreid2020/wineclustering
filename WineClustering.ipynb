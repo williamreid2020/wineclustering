plt.figure(figsize=(12, 6))

plt.subplot(1, 2, 1)
for cluster_label in np.unique(kmeans_labels):
    plt.scatter(df.loc[df['KMeans_Labels'] == cluster_label, 'Alcohol'],
                df.loc[df['KMeans_Labels'] == cluster_label, 'Flavanoids'],
                label=f'Cluster {cluster_label + 1}')

plt.title('KMeans Clustering')
plt.xlabel('Alcohol')
plt.ylabel('Flavanoids')
plt.legend()
plt.subplot(1, 2, 2)
for cluster_label in np.unique(agglomerative_labels):
    plt.scatter(df.loc[df['Agglomerative_Labels'] == cluster_label, 'Alcohol'],
                df.loc[df['Agglomerative_Labels'] == cluster_label, 'Flavanoids'],
                label=f'Cluster {cluster_label + 1}')

plt.title('Agglomerative Clustering')
plt.xlabel('Alcohol')
plt.ylabel('Flavanoids')
plt.legend()

plt.show()
